{
 "cells": [
  {
   "cell_type": "code",
   "execution_count": null,
   "metadata": {},
   "outputs": [],
   "source": [
    "import numpy as np\n",
    "\n",
    "\n",
    "def calculate_metrics(original_img, reconstructed_img):\n",
    "    # Calculate MSE\n",
    "    mse = np.mean((original_img - reconstructed_img) ** 2)\n",
    "\n",
    "    # If MSE is close to zero, PSNR is undefined\n",
    "    if mse == 0:\n",
    "        return float('inf')\n",
    "\n",
    "    # Calculate PSNR\n",
    "    max_pixel_value = 255  # Assuming images are in the range [0, 255]\n",
    "    psnr = 10 * np.log10((max_pixel_value ** 2) / mse)\n",
    "\n",
    "    return psnr\n"
   ]
  },
  {
   "cell_type": "code",
   "execution_count": null,
   "metadata": {},
   "outputs": [],
   "source": [
    "from PIL import Image\n",
    "\n",
    "\n",
    "image1 = None\n",
    "image2 = None\n",
    "\n",
    "image1 = np.array(image1)\n",
    "image2 = np.array(image2)\n",
    "\n",
    "calculate_metrics(image1, image2)"
   ]
  }
 ],
 "metadata": {
  "language_info": {
   "name": "python"
  }
 },
 "nbformat": 4,
 "nbformat_minor": 2
}
