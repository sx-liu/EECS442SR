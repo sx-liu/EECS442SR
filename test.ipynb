{
 "cells": [
  {
   "cell_type": "code",
   "execution_count": 1,
   "metadata": {},
   "outputs": [
    {
     "ename": "",
     "evalue": "",
     "output_type": "error",
     "traceback": [
      "\u001b[1;31mThe Kernel crashed while executing code in the current cell or a previous cell. \n",
      "\u001b[1;31mPlease review the code in the cell(s) to identify a possible cause of the failure. \n",
      "\u001b[1;31mClick <a href='https://aka.ms/vscodeJupyterKernelCrash'>here</a> for more info. \n",
      "\u001b[1;31mView Jupyter <a href='command:jupyter.viewOutput'>log</a> for further details."
     ]
    }
   ],
   "source": [
    "import cv2\n",
    "import numpy as np\n",
    "\n",
    "def get_location(val, length):\n",
    "    \"\"\"Ensure the coordinate stays within the image dimensions.\"\"\"\n",
    "    if val < 0:\n",
    "        return 0\n",
    "    elif val > length:\n",
    "        return length\n",
    "    else:\n",
    "        return val\n",
    "\n",
    "def mask_faces_and_filter(image, det_faces, w, h):\n",
    "    \"\"\"Apply masks over detected faces and filter the remaining part of the image.\"\"\"\n",
    "    # 创建一个空白遮罩，初始时全为1（未遮盖）\n",
    "    mask = np.zeros(image.shape[:2], dtype=\"uint8\")\n",
    "\n",
    "    # 根据检测到的脸部位置信息，将遮罩的对应区域设为0（遮盖）\n",
    "    for det_face in det_faces:\n",
    "        left = get_location(int(det_face[0]), w)\n",
    "        right = get_location(int(det_face[2]), w)\n",
    "        top = get_location(int(det_face[1]), h)\n",
    "        bottom = get_location(int(det_face[3]), h)\n",
    "        cv2.rectangle(mask, (left, top), (right, bottom), 0, -1)\n",
    "\n",
    "    # 将遮罩应用到图像上\n",
    "    masked_image = cv2.bitwise_and(image, image, mask=mask)\n",
    "\n",
    "    # 对未遮盖的部分应用高斯模糊作为示例滤镜\n",
    "    filtered_image = cv2.GaussianBlur(masked_image, (21, 21), 0)\n",
    "\n",
    "    return filtered_image\n",
    "\n",
    "# 读取图像和其尺寸\n",
    "image = cv2.imread('/nfs/turbo/coe-chaijy/xuejunzh/CodeFormer/outputs/final_results/00.png')\n",
    "h, w = image.shape[:2]\n",
    "\n",
    "# 假设 det_faces 已由某种人脸检测模型给出，如下所示：\n",
    "det_faces = [\n",
    "    np.array([470.7142, 140.22777, 522.8775, 208.20227, 0.79962605], dtype=np.float32),\n",
    "    np.array([292.55606, 130.32878, 348.89777, 207.18552, 0.79893553], dtype=np.float32),\n",
    "    np.array([92.83741, 137.1806, 164.81105, 214.59409, 0.79786694], dtype=np.float32),\n",
    "    np.array([648.6708, 114.33363, 711.4867, 196.5089, 0.7965852], dtype=np.float32)\n",
    "]\n",
    "\n",
    "# 处理图像\n",
    "result_image = mask_faces_and_filter(image, det_faces, w, h)\n",
    "\n",
    "# 显示结果\n",
    "cv2.imshow('Filtered Image', result_image)\n",
    "cv2.waitKey(0)\n",
    "cv2.destroyAllWindows()\n"
   ]
  }
 ],
 "metadata": {
  "kernelspec": {
   "display_name": "codeformer",
   "language": "python",
   "name": "python3"
  },
  "language_info": {
   "codemirror_mode": {
    "name": "ipython",
    "version": 3
   },
   "file_extension": ".py",
   "mimetype": "text/x-python",
   "name": "python",
   "nbconvert_exporter": "python",
   "pygments_lexer": "ipython3",
   "version": "3.10.14"
  }
 },
 "nbformat": 4,
 "nbformat_minor": 2
}
